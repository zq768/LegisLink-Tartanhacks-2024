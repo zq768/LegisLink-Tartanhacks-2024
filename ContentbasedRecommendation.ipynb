{
  "cells": [
    {
      "cell_type": "markdown",
      "metadata": {
        "id": "va8RWC_hOjfL"
      },
      "source": [
        "template from this: https://medium.com/@prateekgaurav/step-by-step-content-based-recommendation-system-823bbfd0541c"
      ]
    },
    {
      "cell_type": "code",
      "execution_count": 1,
      "metadata": {
        "id": "PKhXknUAuW3g"
      },
      "outputs": [
        {
          "name": "stderr",
          "output_type": "stream",
          "text": [
            "/var/folders/90/6fny8sws63z9h6ktyqf5vr6r0000gn/T/ipykernel_24741/3398727433.py:2: DeprecationWarning: \n",
            "Pyarrow will become a required dependency of pandas in the next major release of pandas (pandas 3.0),\n",
            "(to allow more performant data types, such as the Arrow string type, and better interoperability with other libraries)\n",
            "but was not found to be installed on your system.\n",
            "If this would cause problems for you,\n",
            "please provide us feedback at https://github.com/pandas-dev/pandas/issues/54466\n",
            "        \n",
            "  import pandas as pd\n"
          ]
        }
      ],
      "source": [
        "#Import all the required packages\n",
        "import pandas as pd\n",
        "from sklearn.metrics.pairwise import cosine_similarity"
      ]
    },
    {
      "cell_type": "code",
      "execution_count": 2,
      "metadata": {
        "id": "w4CyfdBxCx2i"
      },
      "outputs": [],
      "source": [
        "# Load the bills.csv file into a Pandas dataframe\n",
        "bills = pd.read_csv('/Users/qing/desktop/projects/LegisLink/billdata2.csv')"
      ]
    },
    {
      "cell_type": "code",
      "execution_count": 3,
      "metadata": {
        "id": "Cil73TvNHR1H"
      },
      "outputs": [],
      "source": [
        "privatebilllist = bills.copy()\n",
        "privatebilllist['Title'] = bills['Title'].str.lower() #for easier searching, lowercase version"
      ]
    },
    {
      "cell_type": "markdown",
      "metadata": {
        "id": "nubLfDqnYE70"
      },
      "source": [
        "~~~\n",
        "Bag of Words (BoW) is a way of representing text data in numerical form, where\n",
        "each word in a text document is treated as a separate feature. In the context\n",
        "of movie recommendation, BoW is typically used to represent movie descriptions,\n",
        "summaries, or tag information.\n",
        "\n",
        "When creating a BoW representation for bills in the MovieLens dataset, you\n",
        "would process the text data for each movie (e.g., movie tag, title, or\n",
        "summary) and create a vocabulary of all the unique words. You would then use\n",
        "this vocabulary to represent each movie as a numerical vector, with the length\n",
        "of the vector being equal to the size of the vocabulary.\n",
        "\n",
        "Each element in the vector would correspond to a word in the vocabulary, and\n",
        "the value of each element would indicate the frequency of that word in the\n",
        "movie description, summary, or tag information.\n",
        "\n",
        "A simple example of a BoW representation for two bills might look like this:\n",
        "\n",
        "Movie 1: \"Action\", \"Adventure\", \"Thriller\"\n",
        "Movie 2: \"Comedy\", \"Romance\", \"Drama\"\n",
        "\n",
        "Vocabulary: \"Action\", \"Adventure\", \"Thriller\", \"Comedy\", \"Romance\", \"Drama\"\n",
        "\n",
        "Movie 1 vector: [1, 1, 1, 0, 0, 0]\n",
        "Movie 2 vector: [0, 0, 0, 1, 1, 1]\n",
        "\n",
        "In this example, the vocabulary includes all the unique words from the movie\n",
        "tags, and the vectors for each movie represent the presence or absence of\n",
        "each word in the vocabulary for that movie.\n",
        "~~~"
      ]
    },
    {
      "cell_type": "code",
      "execution_count": 4,
      "metadata": {
        "id": "8fyqouWdHZZi"
      },
      "outputs": [],
      "source": [
        "# Extract the movie titles and tags into separate lists\n",
        "titles = bills['Title'].tolist()\n",
        "tags = bills['Tags'].str.split(\"|\").tolist()"
      ]
    },
    {
      "cell_type": "code",
      "execution_count": 5,
      "metadata": {
        "id": "UWcZiyRvHntw"
      },
      "outputs": [],
      "source": [
        "# Create a bag of words representation of the movie tags\n",
        "def create_bow(tag_list):\n",
        "    bow = {}\n",
        "    for tag in tag_list:\n",
        "        bow[tag] = 1\n",
        "    return bow"
      ]
    },
    {
      "cell_type": "code",
      "execution_count": 6,
      "metadata": {
        "id": "-Qel3hgTYIQP"
      },
      "outputs": [],
      "source": [
        "# Create a list of bags of words representations of the movie tags\n",
        "bags_of_words = [create_bow(movie_tags) for movie_tags in tags]"
      ]
    },
    {
      "cell_type": "code",
      "execution_count": 7,
      "metadata": {
        "id": "NYYrQs5QHo4T"
      },
      "outputs": [],
      "source": [
        "# Create a dataframe to store the bags of words representation of the movie tags\n",
        "tag_df = pd.DataFrame(bags_of_words, index=titles).fillna(0)"
      ]
    },
    {
      "cell_type": "code",
      "execution_count": 8,
      "metadata": {
        "colab": {
          "base_uri": "https://localhost:8080/",
          "height": 1000
        },
        "id": "VtEmucgxZohD",
        "outputId": "48af0fc1-eb7f-478d-b525-848bbd745be1"
      },
      "outputs": [],
      "source": [
        "#tag_df"
      ]
    },
    {
      "cell_type": "code",
      "execution_count": 9,
      "metadata": {
        "id": "vI52HPcCZO72"
      },
      "outputs": [],
      "source": [
        "# Calculate the cosine similarity matrix between the bills\n",
        "cosine_similarity = cosine_similarity(tag_df)\n",
        "\n",
        "# Create a dataframe with the cosine similarity scores\n",
        "similarity_df = pd.DataFrame(cosine_similarity, index=tag_df.index, columns=tag_df.index)"
      ]
    },
    {
      "cell_type": "code",
      "execution_count": 10,
      "metadata": {
        "colab": {
          "base_uri": "https://localhost:8080/",
          "height": 1000
        },
        "id": "JhK8oFu_Zr2N",
        "outputId": "213673b3-cbef-49c0-bd5e-1d6ae2e47a1f"
      },
      "outputs": [],
      "source": [
        "#similarity_df"
      ]
    },
    {
      "cell_type": "code",
      "execution_count": 11,
      "metadata": {
        "id": "j0cJk5TM5_sF"
      },
      "outputs": [],
      "source": [
        "# usersimilarities = pd.DataFrame(0, index=[0], columns=similarity_df.columns) #initialize preferences to all 0\n",
        "\n",
        "# x = 'tax'\n",
        "# #pd.concat([bills.loc[bills['Tags'].str.contains(x, case=False)], bills.loc[bills['Title'].str.contains(x, case=False)]]) #filter bills by tag\n",
        "# similartags = privatebilllist.loc[privatebilllist['Tags'].str.contains(x.lower(), case=False)].index.tolist()\n",
        "# for x in privatebilllist.loc[privatebilllist['Title'].str.contains(x.lower(), case=False)].index.tolist():\n",
        "#   if x not in similartags:\n",
        "#     similartags.append(x) #add any keywords in title also\n",
        "\n",
        "# similartags\n",
        "# for y in range(len(similartags)):\n",
        "#    usersimilarities += similarity_df[(similartags[y]):(similartags[y]+1)]\n",
        "\n",
        "# usersimilarities / y\n",
        "# usersimilarities\n",
        "#usersimilarities + similarity_df[0:1].reset_index(drop=True)"
      ]
    },
    {
      "cell_type": "code",
      "execution_count": 12,
      "metadata": {
        "colab": {
          "base_uri": "https://localhost:8080/"
        },
        "id": "z1rvZvqYKP9M",
        "outputId": "7c035cbb-c4ea-4c70-8f71-696b6d3a2f78"
      },
      "outputs": [
        {
          "name": "stdout",
          "output_type": "stream",
          "text": [
            "Bill not in system, looking at tags\n",
            "Bill not in system, looking at tags\n",
            "Bill not in system, looking at tags\n",
            "Bill not in system, looking at tags\n",
            "Bill not in system, looking at tags\n"
          ]
        }
      ],
      "source": [
        "usersimilarities = pd.DataFrame(0, index=[0], columns=similarity_df.columns) #initialize preferences to all 0\n",
        "uinput = input('Enter a bill you like (0 to Exit): ')\n",
        "counter = 1\n",
        "\n",
        "while uinput != '0':\n",
        "  # Find the index of the movie in the similarity dataframe\n",
        "  try:\n",
        "    movie_index = similarity_df.index.get_loc(uinput)\n",
        "    counter += 1\n",
        "    usersimilarities += similarity_df[movie_index:(movie_index+1)].reset_index(drop=True) #make sure indices align\n",
        "  except KeyError:\n",
        "    #want to look at tags instead\n",
        "    print(\"Bill not in system, looking at tags\")\n",
        "    similartags = privatebilllist.loc[privatebilllist['Tags'].str.contains(uinput.lower(), case=False)].index.tolist()\n",
        "    for x in privatebilllist.loc[privatebilllist['Title'].str.contains(uinput.lower(), case=False)].index.tolist():\n",
        "      if x not in similartags:\n",
        "        similartags.append(x) #add any keywords in title also\n",
        "\n",
        "    for y in range(len(similartags)):\n",
        "      usersimilarities += similarity_df[(similartags[y]):(similartags[y]+1)].reset_index(drop=True)\n",
        "      counter += 1\n",
        "\n",
        "  uinput = input('Enter a bill you like (0 to Exit): ')\n",
        "\n",
        "#usersimilarities /= counter #running average\n",
        "\n",
        "similarity_df = pd.concat([similarity_df, usersimilarities], ignore_index=False)\n",
        "\n",
        "#sims = similarity_df.iloc[movie_index].sort_values(ascending=False)\n",
        "\n",
        "sims = similarity_df.iloc[len(similarity_df)-1].sort_values(ascending=False)\n",
        "\n",
        "#usersimilarities.sum().sum()"
      ]
    },
    {
      "cell_type": "code",
      "execution_count": 13,
      "metadata": {
        "colab": {
          "base_uri": "https://localhost:8080/"
        },
        "id": "VIhaiHjWS2cl",
        "outputId": "470d2967-140a-467c-cdd2-517d15db9022"
      },
      "outputs": [
        {
          "name": "stdout",
          "output_type": "stream",
          "text": [
            "Recommended Proposals:\n",
            "1.\tOnline Safety and Cyberbullying Prevention Act, 2024-01-28\n",
            "2.\tAutonomous Vehicles Regulation and Safety Act, 2023-05-13\n",
            "3.\tTax Relief for American Families and Workers Act of 2024, 2023-02-02\n",
            "4.\tRural Broadband Expansion and Connectivity Program, 2021-06-30\n",
            "5.\tUniversal Healthcare Access and Wellness Initiative, 2024-02-01\n",
            "6.\tAgricultural Sustainability and Innovation Program, 2023-12-20\n",
            "7.\tSpace Exploration and Scientific Research Funding Act, 2022-10-02\n",
            "8.\tDigital Privacy and Data Protection Initiative, 2021-07-02\n",
            "9.\tYouth Empowerment and Leadership Development Act, 2023-05-03\n",
            "10.\tOcean Conservation and Environmental Protection Act, 2022-08-15\n"
          ]
        }
      ],
      "source": [
        "top_10 = []\n",
        "counter = 0 #counter for sims index\n",
        "upto10 = 0 #counter to 10\n",
        "while upto10 != 10:\n",
        "  index = bills[bills['Title'] == sims.index[0:][counter]].index[0]\n",
        "  if bills[\"Level\"][index] != -1:\n",
        "    top_10.append(sims.index[0:][counter])\n",
        "    upto10 += 1\n",
        "\n",
        "  counter += 1\n",
        "\n",
        "# Print the top 5 most similar bills to the movie\n",
        "print(f'Recommended Proposals:')\n",
        "#print(top_10)\n",
        "for x in range(len(top_10)):\n",
        "  print(str(x+1) + '.\\t' + top_10[x] + ', ' + bills['Date'][x])"
      ]
    },
    {
      "cell_type": "code",
      "execution_count": 14,
      "metadata": {
        "colab": {
          "base_uri": "https://localhost:8080/",
          "height": 1000
        },
        "id": "FvmkpBq1YOHG",
        "outputId": "255d6e75-e096-454c-bd05-dd6a7242dd9a"
      },
      "outputs": [
        {
          "data": {
            "text/html": [
              "<div>\n",
              "<style scoped>\n",
              "    .dataframe tbody tr th:only-of-type {\n",
              "        vertical-align: middle;\n",
              "    }\n",
              "\n",
              "    .dataframe tbody tr th {\n",
              "        vertical-align: top;\n",
              "    }\n",
              "\n",
              "    .dataframe thead th {\n",
              "        text-align: right;\n",
              "    }\n",
              "</style>\n",
              "<table border=\"1\" class=\"dataframe\">\n",
              "  <thead>\n",
              "    <tr style=\"text-align: right;\">\n",
              "      <th></th>\n",
              "      <th>Tax Relief for American Families and Workers Act of 2024</th>\n",
              "      <th>Social and Economic Security Act of 2023</th>\n",
              "      <th>Health Crisis Response and Preparedness Act of 2023</th>\n",
              "      <th>National Obesity Prevention and Treatment Act of 2021</th>\n",
              "      <th>Online Safety and Cyberbullying Prevention Act</th>\n",
              "      <th>Energy Independence and Climate Resilience Act</th>\n",
              "      <th>California Cannabis Legalization and Regulation Act</th>\n",
              "      <th>Pennsylvania Tax Reform and Economic Growth Act</th>\n",
              "      <th>Sustainable University Practices and Environmental Initiative</th>\n",
              "      <th>National Infrastructure Modernization and Development Act</th>\n",
              "      <th>...</th>\n",
              "      <th>Clean Energy Innovation and Research Initiative</th>\n",
              "      <th>Community Policing and Police Accountability Act</th>\n",
              "      <th>Artificial Intelligence in Education and Integration Act</th>\n",
              "      <th>Worker's Rights Protection and Advocacy Initiative</th>\n",
              "      <th>Green Building and Sustainable Architecture Program</th>\n",
              "      <th>Mental Wellness and Suicide Prevention Program</th>\n",
              "      <th>Veterans Support and Healthcare Access Initiative</th>\n",
              "      <th>Smart Grid Infrastructure Modernization and Development Act</th>\n",
              "      <th>Humanitarian Aid and Refugee Support Program</th>\n",
              "      <th>Space Debris Cleanup and Environmental Protection Initiative</th>\n",
              "    </tr>\n",
              "  </thead>\n",
              "  <tbody>\n",
              "    <tr>\n",
              "      <th>0</th>\n",
              "      <td>0.0</td>\n",
              "      <td>0.0</td>\n",
              "      <td>0.0</td>\n",
              "      <td>0.0</td>\n",
              "      <td>1.333333</td>\n",
              "      <td>0.0</td>\n",
              "      <td>0.0</td>\n",
              "      <td>0.0</td>\n",
              "      <td>0.0</td>\n",
              "      <td>0.0</td>\n",
              "      <td>...</td>\n",
              "      <td>0.0</td>\n",
              "      <td>0.0</td>\n",
              "      <td>0.0</td>\n",
              "      <td>0.0</td>\n",
              "      <td>0.0</td>\n",
              "      <td>0.0</td>\n",
              "      <td>0.0</td>\n",
              "      <td>0.0</td>\n",
              "      <td>0.0</td>\n",
              "      <td>0.0</td>\n",
              "    </tr>\n",
              "  </tbody>\n",
              "</table>\n",
              "<p>1 rows × 44 columns</p>\n",
              "</div>"
            ],
            "text/plain": [
              "   Tax Relief for American Families and Workers Act of 2024  \\\n",
              "0                                                0.0          \n",
              "\n",
              "   Social and Economic Security Act of 2023  \\\n",
              "0                                       0.0   \n",
              "\n",
              "   Health Crisis Response and Preparedness Act of 2023  \\\n",
              "0                                                0.0     \n",
              "\n",
              "   National Obesity Prevention and Treatment Act of 2021  \\\n",
              "0                                                0.0       \n",
              "\n",
              "   Online Safety and Cyberbullying Prevention Act  \\\n",
              "0                                        1.333333   \n",
              "\n",
              "   Energy Independence and Climate Resilience Act  \\\n",
              "0                                             0.0   \n",
              "\n",
              "   California Cannabis Legalization and Regulation Act  \\\n",
              "0                                                0.0     \n",
              "\n",
              "   Pennsylvania Tax Reform and Economic Growth Act  \\\n",
              "0                                              0.0   \n",
              "\n",
              "   Sustainable University Practices and Environmental Initiative  \\\n",
              "0                                                0.0               \n",
              "\n",
              "   National Infrastructure Modernization and Development Act  ...  \\\n",
              "0                                                0.0          ...   \n",
              "\n",
              "   Clean Energy Innovation and Research Initiative  \\\n",
              "0                                              0.0   \n",
              "\n",
              "   Community Policing and Police Accountability Act  \\\n",
              "0                                               0.0   \n",
              "\n",
              "   Artificial Intelligence in Education and Integration Act  \\\n",
              "0                                                0.0          \n",
              "\n",
              "   Worker's Rights Protection and Advocacy Initiative  \\\n",
              "0                                                0.0    \n",
              "\n",
              "   Green Building and Sustainable Architecture Program  \\\n",
              "0                                                0.0     \n",
              "\n",
              "   Mental Wellness and Suicide Prevention Program  \\\n",
              "0                                             0.0   \n",
              "\n",
              "   Veterans Support and Healthcare Access Initiative  \\\n",
              "0                                                0.0   \n",
              "\n",
              "   Smart Grid Infrastructure Modernization and Development Act  \\\n",
              "0                                                0.0             \n",
              "\n",
              "   Humanitarian Aid and Refugee Support Program  \\\n",
              "0                                           0.0   \n",
              "\n",
              "   Space Debris Cleanup and Environmental Protection Initiative  \n",
              "0                                                0.0             \n",
              "\n",
              "[1 rows x 44 columns]"
            ]
          },
          "execution_count": 14,
          "metadata": {},
          "output_type": "execute_result"
        }
      ],
      "source": [
        "similarity_df.drop(similarity_df.index[-1], inplace=True) #delete usersimilarities off the dataset\n",
        "usersimilarities"
      ]
    }
  ],
  "metadata": {
    "accelerator": "TPU",
    "colab": {
      "machine_shape": "hm",
      "provenance": []
    },
    "gpuClass": "standard",
    "kernelspec": {
      "display_name": "Python 3",
      "name": "python3"
    },
    "language_info": {
      "codemirror_mode": {
        "name": "ipython",
        "version": 3
      },
      "file_extension": ".py",
      "mimetype": "text/x-python",
      "name": "python",
      "nbconvert_exporter": "python",
      "pygments_lexer": "ipython3",
      "version": "3.9.6"
    }
  },
  "nbformat": 4,
  "nbformat_minor": 0
}
